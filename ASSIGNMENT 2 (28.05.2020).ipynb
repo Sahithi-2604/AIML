{
 "cells": [
  {
   "cell_type": "code",
   "execution_count": 1,
   "metadata": {},
   "outputs": [
    {
     "name": "stdout",
     "output_type": "stream",
     "text": [
      "enter the string :helloo python 123\n",
      "no of vowels: 4\n",
      "no of consonants: 8\n",
      "no of spl char: 5\n"
     ]
    }
   ],
   "source": [
    "# program 1\n",
    "vcount = 0\n",
    "ccount = 0\n",
    "scount = 0\n",
    "str = input(\"enter the string :\")  \n",
    "for i in range(0,len(str)):   \n",
    "    #Checks whether a character is a vowel  \n",
    "    if str[i] in ('a',\"e\",\"i\",\"o\",\"u\"):  \n",
    "        vcount = vcount + 1 \n",
    "    elif (str[i] >= 'a' and str[i] <= 'z'):  \n",
    "        ccount = ccount + 1  \n",
    "    else:\n",
    "        scount = scount + 1 \n",
    "print(\"no of vowels:\",vcount)  \n",
    "print(\"no of consonants:\",ccount)  \n",
    "print(\"no of spl char:\",scount)"
   ]
  },
  {
   "cell_type": "code",
   "execution_count": 1,
   "metadata": {},
   "outputs": [
    {
     "name": "stdout",
     "output_type": "stream",
     "text": [
      "Enter a string:abbaaccbbaaa\n",
      "Pairs: 2\n"
     ]
    }
   ],
   "source": [
    "# program 2\n",
    "a=input('Enter a string:').lower()\n",
    "p=0\n",
    "c=0\n",
    "for i in a:\n",
    "    if i=='a' and c==0:\n",
    "        c=1\n",
    "    elif i=='a' and c==1:\n",
    "        c=0\n",
    "        p=p+1\n",
    "    else:\n",
    "        c=0\n",
    "print(\"Pairs:\",p)\n"
   ]
  },
  {
   "cell_type": "code",
   "execution_count": 2,
   "metadata": {},
   "outputs": [
    {
     "name": "stdout",
     "output_type": "stream",
     "text": [
      "Enter your string : ((((()()()))))()\n",
      "Number of parentheses :  8\n"
     ]
    }
   ],
   "source": [
    "#program 3\n",
    "def check(str):\n",
    "    stack = []\n",
    "    sum = 0\n",
    "    open_list = [\"(\"]\n",
    "    for i in str:\n",
    "        if i in open_list:\n",
    "            stack.append(i)\n",
    "        else :\n",
    "            stack.pop()\n",
    "            sum += 1\n",
    "    print(\"Number of parentheses : \", sum)\n",
    "# Driver function.\n",
    "str = input(\"Enter your string : \")\n",
    "check(str)"
   ]
  },
  {
   "cell_type": "code",
   "execution_count": 3,
   "metadata": {},
   "outputs": [
    {
     "name": "stdout",
     "output_type": "stream",
     "text": [
      "1\n",
      "10\n",
      "9\n"
     ]
    }
   ],
   "source": [
    "#program 4\n",
    "def isPalindrome(n: int) -> bool: \n",
    "    rev = 0\n",
    "    i = n \n",
    "    while i > 0: \n",
    "        rev = rev * 10 + i % 10\n",
    "        i //= 10 \n",
    "    return (n == rev) \n",
    "\n",
    "def countPal(minn: int, maxx: int) -> None: \n",
    "    c=0\n",
    "    for i in range(minn, maxx + 1): \n",
    "        if isPalindrome(i): \n",
    "            c+=1 \n",
    "    print(c)\n",
    "x=int(input())\n",
    "y=int(input())\n",
    "countPal(x,y)"
   ]
  },
  {
   "cell_type": "code",
   "execution_count": 1,
   "metadata": {},
   "outputs": [
    {
     "name": "stdout",
     "output_type": "stream",
     "text": [
      "127\n",
      "848\n"
     ]
    }
   ],
   "source": [
    "#program 5\n",
    "n = int(input())\n",
    "while True :\n",
    "    if str(n) == str(n)[::-1]:\n",
    "        print(str(n)[::-1])\n",
    "        break\n",
    "    else:\n",
    "            n += int(str(n)[::-1])"
   ]
  },
  {
   "cell_type": "code",
   "execution_count": 2,
   "metadata": {},
   "outputs": [
    {
     "name": "stdout",
     "output_type": "stream",
     "text": [
      "enter the string:orange\n",
      "puboif\n"
     ]
    }
   ],
   "source": [
    "#program 6\n",
    "s=input(\"enter the string:\")\n",
    "s=s.replace(s[0],\"p\")\n",
    "s=s.replace(s[1],\"u\")\n",
    "s=s.replace(s[2],\"b\")\n",
    "s=s.replace(s[3],\"o\")\n",
    "s=s.replace(s[4],\"i\")\n",
    "s=s.replace(s[5],\"f\")\n",
    "print(s)"
   ]
  },
  {
   "cell_type": "code",
   "execution_count": 3,
   "metadata": {},
   "outputs": [
    {
     "name": "stdout",
     "output_type": "stream",
     "text": [
      "enter a stringappli123cation456\n",
      "21\n"
     ]
    }
   ],
   "source": [
    "#program 7\n",
    "def sum_digits_string(str1):\n",
    "    sum_digit = 0\n",
    "    for x in str1:\n",
    "        if x.isdigit() == True:\n",
    "            z = int(x)\n",
    "            sum_digit = sum_digit + z\n",
    "\n",
    "    return sum_digit\n",
    "     \n",
    "print(sum_digits_string(input(\"enter a string\")))"
   ]
  },
  {
   "cell_type": "code",
   "execution_count": 4,
   "metadata": {},
   "outputs": [
    {
     "name": "stdout",
     "output_type": "stream",
     "text": [
      "Enter Score: 0.85\n",
      "B\n"
     ]
    }
   ],
   "source": [
    "#program 8\n",
    "score = input(\"Enter Score: \")\n",
    "s =  float(score)\n",
    "x = 'Error'\n",
    "if s >= 0.9:\n",
    "\tx = 'A'\n",
    "elif s >=0.8:\n",
    "\tx='B'\n",
    "elif s >=0.7:\n",
    "\tx='C'\n",
    "elif s >= 0.6:\n",
    "\tx='D'\n",
    "elif s < .6:\n",
    "\tx ='F'\n",
    "else:\n",
    "\tx =\"Out of Range\"\n",
    "print (x)"
   ]
  },
  {
   "cell_type": "code",
   "execution_count": 5,
   "metadata": {},
   "outputs": [
    {
     "name": "stdout",
     "output_type": "stream",
     "text": [
      "fizzbuzz\n",
      "1\n",
      "2\n",
      "fizz\n",
      "4\n",
      "buzz\n",
      "fizz\n",
      "7\n",
      "8\n",
      "fizz\n",
      "buzz\n",
      "11\n",
      "fizz\n",
      "13\n",
      "14\n",
      "fizzbuzz\n",
      "16\n",
      "17\n",
      "fizz\n",
      "19\n",
      "buzz\n",
      "fizz\n",
      "22\n",
      "23\n",
      "fizz\n",
      "buzz\n",
      "26\n",
      "fizz\n",
      "28\n",
      "29\n",
      "fizzbuzz\n",
      "31\n",
      "32\n",
      "fizz\n",
      "34\n",
      "buzz\n",
      "fizz\n",
      "37\n",
      "38\n",
      "fizz\n",
      "buzz\n",
      "41\n",
      "fizz\n",
      "43\n",
      "44\n",
      "fizzbuzz\n",
      "46\n",
      "47\n",
      "fizz\n",
      "49\n",
      "buzz\n"
     ]
    }
   ],
   "source": [
    "#program 9\n",
    "for fizzbuzz in range(51):\n",
    "    if fizzbuzz % 3 == 0 and fizzbuzz % 5 == 0:\n",
    "        print(\"fizzbuzz\")\n",
    "        continue\n",
    "    elif fizzbuzz % 3 == 0:\n",
    "        print(\"fizz\")\n",
    "        continue\n",
    "    elif fizzbuzz % 5 == 0:\n",
    "        print(\"buzz\")\n",
    "        continue\n",
    "    print(fizzbuzz)"
   ]
  },
  {
   "cell_type": "code",
   "execution_count": 6,
   "metadata": {},
   "outputs": [
    {
     "name": "stdout",
     "output_type": "stream",
     "text": [
      "Input the first number26\n",
      "Input the second number15\n",
      "Input the third number29\n",
      "Median of the above three numbers -\n",
      "26\n"
     ]
    }
   ],
   "source": [
    "#program 10\n",
    "x = input(\"Input the first number\")\n",
    "y = input(\"Input the second number\")\n",
    "z = input(\"Input the third number\")\n",
    "print(\"Median of the above three numbers -\")\n",
    "\n",
    "if y < x and x < z:\n",
    "    print(x)\n",
    "elif z < x and x < y:\n",
    "    print(x)\n",
    "    \n",
    "elif z < y and y < x:\n",
    "    print(y)\n",
    "elif x < y and y < z:\n",
    "    print(y)\n",
    "    \n",
    "elif y < z and z < x:\n",
    "    print(z)    \n",
    "elif x < z and z < y:\n",
    "    print(z)"
   ]
  },
  {
   "cell_type": "code",
   "execution_count": null,
   "metadata": {},
   "outputs": [],
   "source": []
  }
 ],
 "metadata": {
  "kernelspec": {
   "display_name": "Python 3",
   "language": "python",
   "name": "python3"
  },
  "language_info": {
   "codemirror_mode": {
    "name": "ipython",
    "version": 3
   },
   "file_extension": ".py",
   "mimetype": "text/x-python",
   "name": "python",
   "nbconvert_exporter": "python",
   "pygments_lexer": "ipython3",
   "version": "3.7.6"
  }
 },
 "nbformat": 4,
 "nbformat_minor": 4
}
