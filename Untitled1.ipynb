{
 "cells": [
  {
   "cell_type": "code",
   "execution_count": 2,
   "metadata": {},
   "outputs": [
    {
     "ename": "IndentationError",
     "evalue": "unindent does not match any outer indentation level (<tokenize>, line 6)",
     "output_type": "error",
     "traceback": [
      "\u001b[1;36m  File \u001b[1;32m\"<tokenize>\"\u001b[1;36m, line \u001b[1;32m6\u001b[0m\n\u001b[1;33m    n=5\u001b[0m\n\u001b[1;37m    ^\u001b[0m\n\u001b[1;31mIndentationError\u001b[0m\u001b[1;31m:\u001b[0m unindent does not match any outer indentation level\n"
     ]
    }
   ],
   "source": [
    "#PROGRAM 1\n",
    "def pyramid(n):\n",
    "    for i in range(0,n):\n",
    "        for j in range(0,i+1):\n",
    "            print(\"*\",end=\" \")\n",
    "        print(\"\\r\")\n",
    "     n=5\n",
    "    pyramid(n)"
   ]
  },
  {
   "cell_type": "code",
   "execution_count": 3,
   "metadata": {},
   "outputs": [
    {
     "name": "stdout",
     "output_type": "stream",
     "text": [
      "*\n",
      "**\n",
      "***\n",
      "****\n",
      "*****\n"
     ]
    }
   ],
   "source": [
    "k=1\n",
    "for i in range(0,5):\n",
    "    for j in range (0,k):\n",
    "        print(\"*\", end=\"\")\n",
    "    k =k+1\n",
    "    print()"
   ]
  },
  {
   "cell_type": "code",
   "execution_count": 4,
   "metadata": {},
   "outputs": [
    {
     "name": "stdout",
     "output_type": "stream",
     "text": [
      "Enter 'x' for exit.\n",
      "Enter a number: 3\n",
      "3 * 1 = 3\n",
      "3 * 2 = 6\n",
      "3 * 3 = 9\n",
      "3 * 4 = 12\n",
      "3 * 5 = 15\n",
      "3 * 6 = 18\n",
      "3 * 7 = 21\n",
      "3 * 8 = 24\n",
      "3 * 9 = 27\n",
      "3 * 10 = 30\n"
     ]
    }
   ],
   "source": [
    "#TABLE\n",
    "print(\"Enter 'x' for exit.\");\n",
    "num = input(\"Enter a number: \");\n",
    "if num == 'x':\n",
    "    exit();\n",
    "else:\n",
    "    number = int(num);\n",
    "    for i in range(1, 11):\n",
    "    \tprint(number, \"*\", i, \"=\", number*i);"
   ]
  },
  {
   "cell_type": "code",
   "execution_count": 5,
   "metadata": {},
   "outputs": [
    {
     "name": "stdout",
     "output_type": "stream",
     "text": [
      "Enter 'x' for exit.\n",
      "Enter value of a: 1\n",
      "Enter value of b: 4\n",
      "Enter value of c: 4\n",
      "The solutions = (-2+0j) and (-2+0j)\n"
     ]
    }
   ],
   "source": [
    "#QUDRACTIC EQUATION\n",
    "import cmath;\n",
    "print(\"Enter 'x' for exit.\");\n",
    "num1 = input(\"Enter value of a: \");\n",
    "if num1 == 'x':\n",
    "    exit();\n",
    "else:\n",
    "    num2 = input(\"Enter value of b: \");\n",
    "    num3 = input(\"Enter value of c: \");\n",
    "    number1 = float(num1);\n",
    "    number2 = float(num2);\n",
    "    number3 = float(num3);\n",
    "    d = (number2**2) - (4*number1*number3);\n",
    "    r1 = (-number2-cmath.sqrt(d))/(2*number1);\n",
    "    r2 = (-number2+cmath.sqrt(d))/(2*number1);\n",
    "    print(\"The solutions = {0} and {1}\" .format(r1,r2));"
   ]
  },
  {
   "cell_type": "code",
   "execution_count": 6,
   "metadata": {},
   "outputs": [
    {
     "name": "stdout",
     "output_type": "stream",
     "text": [
      "4\n",
      "The equivalent binary number is 100\n"
     ]
    }
   ],
   "source": [
    "#DECIMAL TO BINARY\n",
    "def dtob(n):\n",
    "    x=bin(n)\n",
    "    x=x[2:]\n",
    "    print(\"The equivalent binary number is\",x)\n",
    "y=int(input())\n",
    "dtob(y)"
   ]
  },
  {
   "cell_type": "code",
   "execution_count": 7,
   "metadata": {},
   "outputs": [
    {
     "name": "stdout",
     "output_type": "stream",
     "text": [
      "How many terms you want? 10\n",
      "Fibonacci sequence:\n",
      "0 , 1, 1 , 2 , 3 , 5 , 8 , 13 , 21 , 34 , "
     ]
    }
   ],
   "source": [
    "#FIB0NACCI SEQUENCE\n",
    "nterms = int(input(\"How many terms you want? \"))    \n",
    "n1 = 0  \n",
    "n2 = 1  \n",
    "count = 2  \n",
    "if nterms <= 0:  \n",
    "   print(\"Plese enter a positive integer\")  \n",
    "elif nterms == 1:  \n",
    "   print(\"Fibonacci sequence:\")  \n",
    "   print(n1)  \n",
    "else:  \n",
    "   print(\"Fibonacci sequence:\")  \n",
    "   print(n1,\",\",n2,end=', ')  \n",
    "   while count < nterms:  \n",
    "       nth = n1 + n2  \n",
    "       print(nth,end=' , ')  \n",
    "       # update values  \n",
    "       n1 = n2  \n",
    "       n2 = nth  \n",
    "       count += 1"
   ]
  },
  {
   "cell_type": "code",
   "execution_count": null,
   "metadata": {},
   "outputs": [],
   "source": []
  }
 ],
 "metadata": {
  "kernelspec": {
   "display_name": "Python 3",
   "language": "python",
   "name": "python3"
  },
  "language_info": {
   "codemirror_mode": {
    "name": "ipython",
    "version": 3
   },
   "file_extension": ".py",
   "mimetype": "text/x-python",
   "name": "python",
   "nbconvert_exporter": "python",
   "pygments_lexer": "ipython3",
   "version": "3.7.6"
  }
 },
 "nbformat": 4,
 "nbformat_minor": 4
}
