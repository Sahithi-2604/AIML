{
 "cells": [
  {
   "cell_type": "code",
   "execution_count": 3,
   "metadata": {},
   "outputs": [
    {
     "name": "stdout",
     "output_type": "stream",
     "text": [
      "['?', '?', '?', '?', '?']\n",
      "lives left: LLLLLLLLL\n",
      "guess a letter or whole word :subway\n",
      "you lost a life!\n",
      "['?', '?', '?', '?', '?']\n",
      "lives left: LLLLLLLL\n",
      "guess a letter or whole word :cookie\n",
      "you lost a life!\n",
      "['?', '?', '?', '?', '?']\n",
      "lives left: LLLLLLL\n",
      "guess a letter or whole word :meal\n",
      "you lost a life!\n",
      "['?', '?', '?', '?', '?']\n",
      "lives left: LLLLLL\n",
      "guess a letter or whole word :lettuce\n",
      "you lost a life!\n",
      "['?', '?', '?', '?', '?']\n",
      "lives left: LLLLL\n",
      "guess a letter or whole word :bread\n",
      "you lost a life!\n",
      "['?', '?', '?', '?', '?']\n",
      "lives left: LLLL\n",
      "guess a letter or whole word :olive\n",
      "you lost a life!\n",
      "['?', '?', '?', '?', '?']\n",
      "lives left: LLL\n",
      "guess a letter or whole word :sauce\n",
      "you lost a life!\n",
      "['?', '?', '?', '?', '?']\n",
      "lives left: LL\n",
      "guess a letter or whole word :panner\n",
      "you won and secret word is: panner\n"
     ]
    }
   ],
   "source": [
    "import random\n",
    "import string\n",
    "lives=9\n",
    "words=['bread','subway','olive','lettuce','chicken','panner','wrap','sauce','meal','cookie']\n",
    "secret_word=random.choice(words)\n",
    "clue=list('?????')\n",
    "lives_symbol='L'\n",
    "guessed_word_correctly=False\n",
    "def update_clue(guessed_letter,secret_word,clue):\n",
    "    index=0\n",
    "    while index<len(secret_word):\n",
    "        if guessed_letter==secret_word[index]:\n",
    "            clue[index]=guessed_letter\n",
    "        index=index+1\n",
    "\n",
    "while lives>0:\n",
    "    print(clue)\n",
    "    print(\"lives left:\",lives_symbol*lives)\n",
    "    guess=input(\"guess a letter or whole word :\")\n",
    "    if guess==secret_word:\n",
    "        guessed_word_correctly=True\n",
    "        break\n",
    "    if guess in secret_word:\n",
    "        update_clue(guess,secret_word,clue)\n",
    "    else:\n",
    "        print(\"you lost a life!\")\n",
    "        lives=lives-1\n",
    "if guessed_word_correctly:\n",
    "    print(\"you won and secret word is:\",secret_word)\n",
    "else:\n",
    "    print(\"you lost and secret word is:\",secret_word)"
   ]
  },
  {
   "cell_type": "code",
   "execution_count": null,
   "metadata": {},
   "outputs": [],
   "source": []
  }
 ],
 "metadata": {
  "kernelspec": {
   "display_name": "Python 3",
   "language": "python",
   "name": "python3"
  },
  "language_info": {
   "codemirror_mode": {
    "name": "ipython",
    "version": 3
   },
   "file_extension": ".py",
   "mimetype": "text/x-python",
   "name": "python",
   "nbconvert_exporter": "python",
   "pygments_lexer": "ipython3",
   "version": "3.7.6"
  }
 },
 "nbformat": 4,
 "nbformat_minor": 4
}
